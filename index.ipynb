{
 "cells": [
  {
   "cell_type": "markdown",
   "metadata": {},
   "source": [
    "# One-Sample z-test - Lab\n",
    "\n",
    "## Introduction\n",
    "In this lab, you'll perform a few quick tests to help you better understand how hypothesis testing works.\n",
    "\n",
    "## Objectives\n",
    "You will be able to:\n",
    "\n",
    "* Explain use cases for a 1-sample z-test\n",
    "* Set up null and alternative hypotheses\n",
    "* Use the z-table and scipy methods to acquire the p value for a given z-score\n",
    "* Calculate and interpret p-value for significance of results\n",
    "\n",
    "## Exercise 1\n",
    "A fast-food chain claims that the mean time to order food at their restaurants is 60 seconds, with a standard deviation of 30 seconds. You decide to put this claim to the test and go to one of the restaurants to observe actual waiting times. You take a sample of 36 customers and find that the mean order time was 75 seconds. Does this finding provide enough evidence to contradict the fast food chain's claim of fast service?\n",
    "\n",
    "Follow the 5 steps shown in previous lesson and use $\\alpha$ = 0.05. "
   ]
  },
  {
   "cell_type": "code",
   "execution_count": 6,
   "metadata": {},
   "outputs": [],
   "source": [
    "# State your null and alternative hypotheses\n",
    "# Ha: the time to order is more than 60 seconds\n",
    "# Ho: the time to order is less or equal to 60 seconds"
   ]
  },
  {
   "cell_type": "code",
   "execution_count": 1,
   "metadata": {
    "ExecuteTime": {
     "end_time": "2021-03-28T05:16:35.677623Z",
     "start_time": "2021-03-28T05:16:35.401595Z"
    }
   },
   "outputs": [
    {
     "data": {
      "text/plain": [
       "(0.0013498980316301035, 3.0)"
      ]
     },
     "execution_count": 1,
     "metadata": {},
     "output_type": "execute_result"
    }
   ],
   "source": [
    "# Your solution here\n",
    "import math\n",
    "import scipy.stats as stats\n",
    "\n",
    "mu=60\n",
    "sigma=30\n",
    "n=36\n",
    "x_sample=75\n",
    "\n",
    "z_score=(x_sample-mu)/(sigma/math.sqrt(n))\n",
    "p_value=1-stats.norm.cdf(z)\n",
    "\n",
    "p_value,z_score\n",
    "\n",
    "# (p = 0.0013498980316301035, z = 3.0)"
   ]
  },
  {
   "cell_type": "code",
   "execution_count": 8,
   "metadata": {},
   "outputs": [],
   "source": [
    "# Interpret the results in terms of the p-value\n",
    "#p-value is <0.05 and z-score is 3.0. It allows us to reject the Null Hypothesis; Ha is valid"
   ]
  },
  {
   "cell_type": "markdown",
   "metadata": {},
   "source": [
    "## Exercise 2\n",
    "\n",
    "25 students complete a preparation program for taking the SAT test.  Here are the SAT scores from the 25 students who completed the program:\n",
    "\n",
    "``\n",
    "434 694 457 534 720 400 484 478 610 641 425 636 454 \n",
    "514 563 370 499 640 501 625 612 471 598 509 531\n",
    "``\n",
    "\n",
    "We know that the population average for SAT scores is 500 with a standard deviation of 100.\n",
    "\n",
    "Are our 25 students’ SAT scores significantly higher than the population's mean score? \n",
    "\n",
    "*Note that the SAT preparation program claims that it will increase (and not decrease) the SAT score.  So, you can conduct a one-directional test. (alpha = .05).*"
   ]
  },
  {
   "cell_type": "code",
   "execution_count": null,
   "metadata": {},
   "outputs": [],
   "source": [
    "# State your hypotheses \n",
    "# Ho: program makes no difference\n",
    "# Ha program makes a difference"
   ]
  },
  {
   "cell_type": "code",
   "execution_count": 5,
   "metadata": {
    "ExecuteTime": {
     "end_time": "2021-03-28T05:24:29.783506Z",
     "start_time": "2021-03-28T05:24:29.769979Z"
    }
   },
   "outputs": [
    {
     "data": {
      "text/plain": [
       "(0.03593031911292577, 1.8)"
      ]
     },
     "execution_count": 5,
     "metadata": {},
     "output_type": "execute_result"
    }
   ],
   "source": [
    "# Give your solution here \n",
    "import numpy as np\n",
    "\n",
    "mu=500\n",
    "sigma=100\n",
    "n_sample=25\n",
    "x = np.array([434, 694, 457, 534, 720, 400, 484, 478, 610, 641, 425, 636, 454,\n",
    "514, 563, 370, 499, 640, 501, 625, 612, 471, 598, 509, 531])\n",
    "sample_mu=x.mean()\n",
    "\n",
    "z_score=(sample_mu-mu)/(sigma/math.sqrt(n_sample))\n",
    "p_value=1-stats.norm.cdf(z_score)\n",
    "\n",
    "p_value,z_score\n",
    "# p = 0.03593031911292577, z = 1.8"
   ]
  },
  {
   "cell_type": "code",
   "execution_count": 20,
   "metadata": {},
   "outputs": [],
   "source": [
    "# Interpret the results in terms of the p-value\n",
    "# p-value is less than 0.05 so cautiously we can reject Ho and conclude that the program makes a difference with 95% certainty"
   ]
  },
  {
   "cell_type": "markdown",
   "metadata": {},
   "source": [
    "## Summary\n",
    "\n",
    "In this lesson, you conducted a couple of simple tests comparing sample and population means, in an attempt to reject our null hypotheses. This provides you with a strong foundation to move ahead with more advanced tests and approaches later on."
   ]
  }
 ],
 "metadata": {
  "hide_input": false,
  "kernelspec": {
   "display_name": "Python 3",
   "language": "python",
   "name": "python3"
  },
  "language_info": {
   "codemirror_mode": {
    "name": "ipython",
    "version": 3
   },
   "file_extension": ".py",
   "mimetype": "text/x-python",
   "name": "python",
   "nbconvert_exporter": "python",
   "pygments_lexer": "ipython3",
   "version": "3.8.5"
  },
  "toc": {
   "base_numbering": 1,
   "nav_menu": {},
   "number_sections": true,
   "sideBar": true,
   "skip_h1_title": false,
   "title_cell": "Table of Contents",
   "title_sidebar": "Contents",
   "toc_cell": false,
   "toc_position": {},
   "toc_section_display": true,
   "toc_window_display": false
  },
  "varInspector": {
   "cols": {
    "lenName": 16,
    "lenType": 16,
    "lenVar": 40
   },
   "kernels_config": {
    "python": {
     "delete_cmd_postfix": "",
     "delete_cmd_prefix": "del ",
     "library": "var_list.py",
     "varRefreshCmd": "print(var_dic_list())"
    },
    "r": {
     "delete_cmd_postfix": ") ",
     "delete_cmd_prefix": "rm(",
     "library": "var_list.r",
     "varRefreshCmd": "cat(var_dic_list()) "
    }
   },
   "types_to_exclude": [
    "module",
    "function",
    "builtin_function_or_method",
    "instance",
    "_Feature"
   ],
   "window_display": false
  }
 },
 "nbformat": 4,
 "nbformat_minor": 2
}
